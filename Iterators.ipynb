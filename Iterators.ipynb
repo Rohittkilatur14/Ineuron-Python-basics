{
  "nbformat": 4,
  "nbformat_minor": 0,
  "metadata": {
    "colab": {
      "name": "Iterators.ipynb",
      "provenance": [],
      "authorship_tag": "ABX9TyMxTLpS7d70lksdJVdJNEYT",
      "include_colab_link": true
    },
    "kernelspec": {
      "name": "python3",
      "display_name": "Python 3"
    }
  },
  "cells": [
    {
      "cell_type": "markdown",
      "metadata": {
        "id": "view-in-github",
        "colab_type": "text"
      },
      "source": [
        "<a href=\"https://colab.research.google.com/github/Rohittkilatur14/Ineuron-Python-basics/blob/main/Iterators.ipynb\" target=\"_parent\"><img src=\"https://colab.research.google.com/assets/colab-badge.svg\" alt=\"Open In Colab\"/></a>"
      ]
    },
    {
      "cell_type": "markdown",
      "metadata": {
        "id": "U_uvK2FlCCXp"
      },
      "source": [
        "## Iterators and Generators"
      ]
    },
    {
      "cell_type": "markdown",
      "metadata": {
        "id": "dhC-AeHUCzsm"
      },
      "source": [
        "Iterators can be created on an \"iterable\" object."
      ]
    },
    {
      "cell_type": "code",
      "metadata": {
        "colab": {
          "base_uri": "https://localhost:8080/"
        },
        "id": "BhOe7zd6DCku",
        "outputId": "fa5ce71c-2577-4d9e-dac3-afdca1459876"
      },
      "source": [
        "a = iter([1,2,3,4,5])\r\n",
        "a"
      ],
      "execution_count": 31,
      "outputs": [
        {
          "output_type": "execute_result",
          "data": {
            "text/plain": [
              "<list_iterator at 0x7f403a239860>"
            ]
          },
          "metadata": {
            "tags": []
          },
          "execution_count": 31
        }
      ]
    },
    {
      "cell_type": "markdown",
      "metadata": {
        "id": "tBTNtUjZDtSt"
      },
      "source": [
        "## Lazy Evaluation"
      ]
    },
    {
      "cell_type": "markdown",
      "metadata": {
        "id": "Q0gfkDu_Dx4-"
      },
      "source": [
        "If a variable or an element in an object is not called, then the particular variable will not give us any value stored in it  \r\n",
        "\r\n",
        "\r\n",
        "\r\n"
      ]
    },
    {
      "cell_type": "code",
      "metadata": {
        "colab": {
          "base_uri": "https://localhost:8080/"
        },
        "id": "aCMeYeQkJtUT",
        "outputId": "ad6ae6dd-74e3-475e-d617-4354c7fa1fb3"
      },
      "source": [
        "##Lazy evaluation\r\n",
        "next(a)"
      ],
      "execution_count": 32,
      "outputs": [
        {
          "output_type": "execute_result",
          "data": {
            "text/plain": [
              "1"
            ]
          },
          "metadata": {
            "tags": []
          },
          "execution_count": 32
        }
      ]
    },
    {
      "cell_type": "code",
      "metadata": {
        "colab": {
          "base_uri": "https://localhost:8080/"
        },
        "id": "gpr4dHHJJ3KC",
        "outputId": "886d8f2a-718b-42e2-efef-fa1e2dcf078b"
      },
      "source": [
        "for i in a:\r\n",
        "  print(i)"
      ],
      "execution_count": 33,
      "outputs": [
        {
          "output_type": "stream",
          "text": [
            "2\n",
            "3\n",
            "4\n",
            "5\n"
          ],
          "name": "stdout"
        }
      ]
    },
    {
      "cell_type": "code",
      "metadata": {
        "colab": {
          "base_uri": "https://localhost:8080/",
          "height": 166
        },
        "id": "-XUQkeSILgSJ",
        "outputId": "3d5fc086-fdaf-4e00-9481-f4ce9da1369a"
      },
      "source": [
        "a[1]"
      ],
      "execution_count": 34,
      "outputs": [
        {
          "output_type": "error",
          "ename": "TypeError",
          "evalue": "ignored",
          "traceback": [
            "\u001b[0;31m---------------------------------------------------------------------------\u001b[0m",
            "\u001b[0;31mTypeError\u001b[0m                                 Traceback (most recent call last)",
            "\u001b[0;32m<ipython-input-34-8bc71255a22e>\u001b[0m in \u001b[0;36m<module>\u001b[0;34m()\u001b[0m\n\u001b[0;32m----> 1\u001b[0;31m \u001b[0ma\u001b[0m\u001b[0;34m[\u001b[0m\u001b[0;36m1\u001b[0m\u001b[0;34m]\u001b[0m\u001b[0;34m\u001b[0m\u001b[0;34m\u001b[0m\u001b[0m\n\u001b[0m",
            "\u001b[0;31mTypeError\u001b[0m: 'list_iterator' object is not subscriptable"
          ]
        }
      ]
    },
    {
      "cell_type": "markdown",
      "metadata": {
        "id": "zt6o6QhOEwrn"
      },
      "source": [
        "Note: If I am calling an iterator by an iter(), there will be lazy evaluation which means I can iterate throught the elements in a list in a fixed memory location. ***Lazy Evaluation*** saves some memory and stores the element in a memory unless called."
      ]
    },
    {
      "cell_type": "code",
      "metadata": {
        "id": "3nmPdEoSJZv9"
      },
      "source": [
        ""
      ],
      "execution_count": 27,
      "outputs": []
    },
    {
      "cell_type": "markdown",
      "metadata": {
        "id": "5KFuzZckFob9"
      },
      "source": [
        "List, Strings and Tuples are iterable"
      ]
    },
    {
      "cell_type": "code",
      "metadata": {
        "colab": {
          "base_uri": "https://localhost:8080/"
        },
        "id": "wcGrMLCIFtXZ",
        "outputId": "4498e883-1d23-47b0-c8b9-69ff72fed639"
      },
      "source": [
        "##Tuples are iterable\r\n",
        "for i in (\"krish\",1,2,3,4,5):\r\n",
        "  print(i)"
      ],
      "execution_count": 10,
      "outputs": [
        {
          "output_type": "stream",
          "text": [
            "krish\n",
            "1\n",
            "2\n",
            "3\n",
            "4\n",
            "5\n"
          ],
          "name": "stdout"
        }
      ]
    },
    {
      "cell_type": "code",
      "metadata": {
        "colab": {
          "base_uri": "https://localhost:8080/"
        },
        "id": "RL1VgPwvGBDa",
        "outputId": "64fcea87-854b-4d16-d75f-ec39bc838f07"
      },
      "source": [
        "##Lists are iterable\r\n",
        "for i in [1,2,3,4,5]:\r\n",
        "  print(i)"
      ],
      "execution_count": 12,
      "outputs": [
        {
          "output_type": "stream",
          "text": [
            "1\n",
            "2\n",
            "3\n",
            "4\n",
            "5\n"
          ],
          "name": "stdout"
        }
      ]
    },
    {
      "cell_type": "code",
      "metadata": {
        "colab": {
          "base_uri": "https://localhost:8080/"
        },
        "id": "s-aWiQ_XGWyU",
        "outputId": "52a89a80-dcaa-4e18-aac1-d3ecc5e5f3a9"
      },
      "source": [
        "##Strings are iterable\r\n",
        "for i in (\"krish\"):\r\n",
        "  print(i)\r\n",
        "\r\n",
        "\r\n"
      ],
      "execution_count": 13,
      "outputs": [
        {
          "output_type": "stream",
          "text": [
            "k\n",
            "r\n",
            "i\n",
            "s\n",
            "h\n"
          ],
          "name": "stdout"
        }
      ]
    }
  ]
}