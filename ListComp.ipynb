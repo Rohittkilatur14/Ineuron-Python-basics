{
  "nbformat": 4,
  "nbformat_minor": 0,
  "metadata": {
    "colab": {
      "name": "ListComp.ipynb",
      "provenance": [],
      "authorship_tag": "ABX9TyORwIKnX8sbn1PipxL7Jsrh",
      "include_colab_link": true
    },
    "kernelspec": {
      "name": "python3",
      "display_name": "Python 3"
    }
  },
  "cells": [
    {
      "cell_type": "markdown",
      "metadata": {
        "id": "view-in-github",
        "colab_type": "text"
      },
      "source": [
        "<a href=\"https://colab.research.google.com/github/Rohittkilatur14/Ineuron-Python-basics/blob/main/ListComp.ipynb\" target=\"_parent\"><img src=\"https://colab.research.google.com/assets/colab-badge.svg\" alt=\"Open In Colab\"/></a>"
      ]
    },
    {
      "cell_type": "code",
      "metadata": {
        "colab": {
          "base_uri": "https://localhost:8080/"
        },
        "id": "tRKHPpmrnNt_",
        "outputId": "8834cca6-316a-4852-845f-d7068ce8e72c"
      },
      "source": [
        "lst = [1,2,3,4]\r\n",
        "for i in lst:\r\n",
        "  print(i**2)"
      ],
      "execution_count": 1,
      "outputs": [
        {
          "output_type": "stream",
          "text": [
            "1\n",
            "4\n",
            "9\n",
            "16\n"
          ],
          "name": "stdout"
        }
      ]
    },
    {
      "cell_type": "code",
      "metadata": {
        "colab": {
          "base_uri": "https://localhost:8080/"
        },
        "id": "GxFVJjaKngwF",
        "outputId": "083488f5-44e7-4ba7-80b1-fb93e43a1e8b"
      },
      "source": [
        "lst = [1,2,3,4]\r\n",
        "lst1=[]\r\n",
        "for i in lst:\r\n",
        "  lst1.append(i**2)\r\n",
        "print(lst1)"
      ],
      "execution_count": 6,
      "outputs": [
        {
          "output_type": "stream",
          "text": [
            "[1, 4, 9, 16]\n"
          ],
          "name": "stdout"
        }
      ]
    },
    {
      "cell_type": "markdown",
      "metadata": {
        "id": "V41aZ9k-oJXR"
      },
      "source": [
        "##LIST COMPREHENSION"
      ]
    },
    {
      "cell_type": "code",
      "metadata": {
        "colab": {
          "base_uri": "https://localhost:8080/"
        },
        "id": "amjq2FhWoSLR",
        "outputId": "e83b06f2-33b4-4719-9010-07c6816ecca7"
      },
      "source": [
        "[i**2 for i in lst]"
      ],
      "execution_count": 7,
      "outputs": [
        {
          "output_type": "execute_result",
          "data": {
            "text/plain": [
              "[1, 4, 9, 16]"
            ]
          },
          "metadata": {
            "tags": []
          },
          "execution_count": 7
        }
      ]
    },
    {
      "cell_type": "markdown",
      "metadata": {
        "id": "DXxNK98EpQh3"
      },
      "source": [
        "## LIST OF EVEN NUMBERS INSIDE A COLLECTION"
      ]
    },
    {
      "cell_type": "code",
      "metadata": {
        "colab": {
          "base_uri": "https://localhost:8080/"
        },
        "id": "1GTf93I9pec-",
        "outputId": "c0c99ceb-9cbb-4e4f-b39d-7646724a4717"
      },
      "source": [
        "lst = [1,2,3,4,5,6,7,8,9,10]\r\n",
        "lst1 = [i for i in lst if i%2==0]\r\n",
        "print(lst1)"
      ],
      "execution_count": 10,
      "outputs": [
        {
          "output_type": "stream",
          "text": [
            "[2, 4, 6, 8, 10]\n"
          ],
          "name": "stdout"
        }
      ]
    },
    {
      "cell_type": "markdown",
      "metadata": {
        "id": "eUmgZP5Bqas4"
      },
      "source": [
        "##SUM OF EVEN AND ODD NUMBERS INSIDE A COLLECTION "
      ]
    },
    {
      "cell_type": "code",
      "metadata": {
        "colab": {
          "base_uri": "https://localhost:8080/"
        },
        "id": "EnhVcgcnqofX",
        "outputId": "e957f8b4-7cd2-41e9-c37d-7b804dae53de"
      },
      "source": [
        "lst = [1,2,3,4,5,6,7,8,9,10]\r\n",
        "lst1 = sum([i for i in lst if i%2==0])\r\n",
        "lst2 = sum([i for i in lst if i%2!=0])\r\n",
        "print(lst1)\r\n",
        "print(lst2)\r\n"
      ],
      "execution_count": 11,
      "outputs": [
        {
          "output_type": "stream",
          "text": [
            "30\n",
            "25\n"
          ],
          "name": "stdout"
        }
      ]
    }
  ]
}